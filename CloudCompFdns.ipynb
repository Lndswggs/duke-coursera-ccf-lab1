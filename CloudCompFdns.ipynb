{
  "nbformat": 4,
  "nbformat_minor": 0,
  "metadata": {
    "colab": {
      "provenance": [],
      "authorship_tag": "ABX9TyOvm9z1+VqTnb542SkD/Yg7",
      "include_colab_link": true
    },
    "kernelspec": {
      "name": "python3",
      "display_name": "Python 3"
    },
    "language_info": {
      "name": "python"
    }
  },
  "cells": [
    {
      "cell_type": "markdown",
      "metadata": {
        "id": "view-in-github",
        "colab_type": "text"
      },
      "source": [
        "<a href=\"https://colab.research.google.com/github/Lndswggs/duke-coursera-ccf-lab1/blob/main/CloudCompFdns.ipynb\" target=\"_parent\"><img src=\"https://colab.research.google.com/assets/colab-badge.svg\" alt=\"Open In Colab\"/></a>"
      ]
    },
    {
      "cell_type": "markdown",
      "source": [
        "# Course 1 - Cloud Computing Foundations\n",
        "## Duke Univeristy\n",
        "## Week 2- Effective Technical Discussions\n"
      ],
      "metadata": {
        "id": "d_tqNpI376kP"
      }
    },
    {
      "cell_type": "code",
      "execution_count": 2,
      "metadata": {
        "colab": {
          "base_uri": "https://localhost:8080/"
        },
        "id": "XGY9rEjf7q4W",
        "outputId": "009e4957-9961-4604-f55d-f65ef5e48b06"
      },
      "outputs": [
        {
          "output_type": "stream",
          "name": "stdout",
          "text": [
            "hello world\n"
          ]
        }
      ],
      "source": [
        "print (\"hello world\")"
      ]
    },
    {
      "cell_type": "markdown",
      "source": [
        "*practicing formatting* using single asterisks for italics"
      ],
      "metadata": {
        "id": "24cs0CVE8a8u"
      }
    },
    {
      "cell_type": "markdown",
      "source": [
        "_practicing formatting_ or single underscores"
      ],
      "metadata": {
        "id": "5KCIYr1N8lz9"
      }
    },
    {
      "cell_type": "markdown",
      "source": [
        "**using double asterisks** for bolding"
      ],
      "metadata": {
        "id": "L4PcdiDC81oM"
      }
    },
    {
      "cell_type": "markdown",
      "source": [
        "__or double underscores__ for bolding\n"
      ],
      "metadata": {
        "id": "O-tQGGsy9Lqa"
      }
    },
    {
      "cell_type": "code",
      "source": [],
      "metadata": {
        "id": "uTKsx-bd9PLn"
      },
      "execution_count": null,
      "outputs": []
    }
  ]
}